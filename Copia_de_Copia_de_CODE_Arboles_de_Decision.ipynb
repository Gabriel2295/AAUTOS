{
  "nbformat": 4,
  "nbformat_minor": 0,
  "metadata": {
    "colab": {
      "provenance": [],
      "include_colab_link": true
    },
    "kernelspec": {
      "name": "ir",
      "display_name": "R"
    },
    "language_info": {
      "name": "R"
    }
  },
  "cells": [
    {
      "cell_type": "markdown",
      "metadata": {
        "id": "view-in-github",
        "colab_type": "text"
      },
      "source": [
        "<a href=\"https://colab.research.google.com/github/Gabriel2295/AAUTOS/blob/main/Copia_de_Copia_de_CODE_Arboles_de_Decision.ipynb\" target=\"_parent\"><img src=\"https://colab.research.google.com/assets/colab-badge.svg\" alt=\"Open In Colab\"/></a>"
      ]
    },
    {
      "cell_type": "markdown",
      "source": [
        "# **Clase: I.A. 2022**\n",
        "\n",
        "Autor: Luis Vidal V. (lvidal@uach.cl)\n",
        "\n",
        "Fecha: 06 de Octubre de 2022\n",
        "\n",
        "Notas: \n",
        "- Los ejemplos se ejecutan en lenguaje R \n",
        "- Se desarrolla el concepto de árboles de decisión"
      ],
      "metadata": {
        "id": "EIgCnGyLtCWq"
      }
    },
    {
      "cell_type": "markdown",
      "source": [
        "# **Árboles de Decisión**\n",
        "\n",
        "Un árbol de decisión es un diagrama de flujo, donde:\n",
        "- Cada **nodo interno** representa una \"pregunta\" sobre un atributo\n",
        "- Cada **rama** representa una respuesta a esa pregunta y\n",
        "- Cada **hoja o nodo terminal** representa la clase de clasificación"
      ],
      "metadata": {
        "id": "e-mG_PHmp9Iq"
      }
    },
    {
      "cell_type": "markdown",
      "source": [
        "# **1. Caso: Detectar enfermedad**"
      ],
      "metadata": {
        "id": "9nBL_JgLE39d"
      }
    },
    {
      "cell_type": "markdown",
      "source": [
        "Se cuenta con información de 146 pacientes con cáncer de próstata en estado C.\n",
        "\n",
        "Medicamente es interesante estudiar si la enfermedad reaparece luego de la cirugía de remoción de la próstata y el intervalo de tiempo hasta que eso ocurra (si es que ocurre).\n"
      ],
      "metadata": {
        "id": "Vx6W5zN_FGN2"
      }
    },
    {
      "cell_type": "markdown",
      "source": [
        "Los datos se encuentran bajo el nombre de stagec de la librería rpart.\n",
        "\n",
        "Se aplican las funciones rpart, printcp y prune de la librería rpart."
      ],
      "metadata": {
        "id": "GzLy6ylHFRi3"
      }
    },
    {
      "cell_type": "code",
      "source": [
        "# Cargar paquete rpart antes\n",
        "library(rpart) \n",
        "data(stagec)\n",
        "head(stagec)"
      ],
      "metadata": {
        "id": "P1Qu1l9JFUU-",
        "outputId": "d9790f49-e8f5-413e-9206-d61984e59707",
        "colab": {
          "base_uri": "https://localhost:8080/",
          "height": 286
        }
      },
      "execution_count": 1,
      "outputs": [
        {
          "output_type": "display_data",
          "data": {
            "text/html": [
              "<table class=\"dataframe\">\n",
              "<caption>A data.frame: 6 × 8</caption>\n",
              "<thead>\n",
              "\t<tr><th></th><th scope=col>pgtime</th><th scope=col>pgstat</th><th scope=col>age</th><th scope=col>eet</th><th scope=col>g2</th><th scope=col>grade</th><th scope=col>gleason</th><th scope=col>ploidy</th></tr>\n",
              "\t<tr><th></th><th scope=col>&lt;dbl&gt;</th><th scope=col>&lt;int&gt;</th><th scope=col>&lt;int&gt;</th><th scope=col>&lt;int&gt;</th><th scope=col>&lt;dbl&gt;</th><th scope=col>&lt;int&gt;</th><th scope=col>&lt;int&gt;</th><th scope=col>&lt;fct&gt;</th></tr>\n",
              "</thead>\n",
              "<tbody>\n",
              "\t<tr><th scope=row>1</th><td>6.1</td><td>0</td><td>64</td><td>2</td><td>10.26</td><td>2</td><td>4</td><td>diploid   </td></tr>\n",
              "\t<tr><th scope=row>2</th><td>9.4</td><td>0</td><td>62</td><td>1</td><td>   NA</td><td>3</td><td>8</td><td>aneuploid </td></tr>\n",
              "\t<tr><th scope=row>3</th><td>5.2</td><td>1</td><td>59</td><td>2</td><td> 9.99</td><td>3</td><td>7</td><td>diploid   </td></tr>\n",
              "\t<tr><th scope=row>4</th><td>3.2</td><td>1</td><td>62</td><td>2</td><td> 3.57</td><td>2</td><td>4</td><td>diploid   </td></tr>\n",
              "\t<tr><th scope=row>5</th><td>1.9</td><td>1</td><td>64</td><td>2</td><td>22.56</td><td>4</td><td>8</td><td>tetraploid</td></tr>\n",
              "\t<tr><th scope=row>6</th><td>4.8</td><td>0</td><td>69</td><td>1</td><td> 6.14</td><td>3</td><td>7</td><td>diploid   </td></tr>\n",
              "</tbody>\n",
              "</table>\n"
            ],
            "text/markdown": "\nA data.frame: 6 × 8\n\n| <!--/--> | pgtime &lt;dbl&gt; | pgstat &lt;int&gt; | age &lt;int&gt; | eet &lt;int&gt; | g2 &lt;dbl&gt; | grade &lt;int&gt; | gleason &lt;int&gt; | ploidy &lt;fct&gt; |\n|---|---|---|---|---|---|---|---|---|\n| 1 | 6.1 | 0 | 64 | 2 | 10.26 | 2 | 4 | diploid    |\n| 2 | 9.4 | 0 | 62 | 1 |    NA | 3 | 8 | aneuploid  |\n| 3 | 5.2 | 1 | 59 | 2 |  9.99 | 3 | 7 | diploid    |\n| 4 | 3.2 | 1 | 62 | 2 |  3.57 | 2 | 4 | diploid    |\n| 5 | 1.9 | 1 | 64 | 2 | 22.56 | 4 | 8 | tetraploid |\n| 6 | 4.8 | 0 | 69 | 1 |  6.14 | 3 | 7 | diploid    |\n\n",
            "text/latex": "A data.frame: 6 × 8\n\\begin{tabular}{r|llllllll}\n  & pgtime & pgstat & age & eet & g2 & grade & gleason & ploidy\\\\\n  & <dbl> & <int> & <int> & <int> & <dbl> & <int> & <int> & <fct>\\\\\n\\hline\n\t1 & 6.1 & 0 & 64 & 2 & 10.26 & 2 & 4 & diploid   \\\\\n\t2 & 9.4 & 0 & 62 & 1 &    NA & 3 & 8 & aneuploid \\\\\n\t3 & 5.2 & 1 & 59 & 2 &  9.99 & 3 & 7 & diploid   \\\\\n\t4 & 3.2 & 1 & 62 & 2 &  3.57 & 2 & 4 & diploid   \\\\\n\t5 & 1.9 & 1 & 64 & 2 & 22.56 & 4 & 8 & tetraploid\\\\\n\t6 & 4.8 & 0 & 69 & 1 &  6.14 & 3 & 7 & diploid   \\\\\n\\end{tabular}\n",
            "text/plain": [
              "  pgtime pgstat age eet g2    grade gleason ploidy    \n",
              "1 6.1    0      64  2   10.26 2     4       diploid   \n",
              "2 9.4    0      62  1      NA 3     8       aneuploid \n",
              "3 5.2    1      59  2    9.99 3     7       diploid   \n",
              "4 3.2    1      62  2    3.57 2     4       diploid   \n",
              "5 1.9    1      64  2   22.56 4     8       tetraploid\n",
              "6 4.8    0      69  1    6.14 3     7       diploid   "
            ]
          },
          "metadata": {}
        }
      ]
    },
    {
      "cell_type": "code",
      "source": [
        "# Le pedimos los nombres de las columnas\n",
        "# de la base o también  llamadas variables.\n",
        "names(stagec)"
      ],
      "metadata": {
        "id": "uWJMgx_kFnA3",
        "outputId": "427f5241-6b42-49cb-96f3-4464d160ad7e",
        "colab": {
          "base_uri": "https://localhost:8080/",
          "height": 34
        }
      },
      "execution_count": null,
      "outputs": [
        {
          "output_type": "display_data",
          "data": {
            "text/html": [
              "<style>\n",
              ".list-inline {list-style: none; margin:0; padding: 0}\n",
              ".list-inline>li {display: inline-block}\n",
              ".list-inline>li:not(:last-child)::after {content: \"\\00b7\"; padding: 0 .5ex}\n",
              "</style>\n",
              "<ol class=list-inline><li>'pgtime'</li><li>'pgstat'</li><li>'age'</li><li>'eet'</li><li>'g2'</li><li>'grade'</li><li>'gleason'</li><li>'ploidy'</li></ol>\n"
            ],
            "text/markdown": "1. 'pgtime'\n2. 'pgstat'\n3. 'age'\n4. 'eet'\n5. 'g2'\n6. 'grade'\n7. 'gleason'\n8. 'ploidy'\n\n\n",
            "text/latex": "\\begin{enumerate*}\n\\item 'pgtime'\n\\item 'pgstat'\n\\item 'age'\n\\item 'eet'\n\\item 'g2'\n\\item 'grade'\n\\item 'gleason'\n\\item 'ploidy'\n\\end{enumerate*}\n",
            "text/plain": [
              "[1] \"pgtime\"  \"pgstat\"  \"age\"     \"eet\"     \"g2\"      \"grade\"   \"gleason\"\n",
              "[8] \"ploidy\" "
            ]
          },
          "metadata": {}
        }
      ]
    },
    {
      "cell_type": "code",
      "source": [
        "help(stagec)"
      ],
      "metadata": {
        "id": "x6FW-FOYFrYZ"
      },
      "execution_count": null,
      "outputs": []
    },
    {
      "cell_type": "code",
      "source": [
        "# En esta parte convertimos los 0's y 1's en labels con palabras. \n",
        "# Si el cáncer esta progesando dirá \"prog\",\n",
        "#     sino aparecerá un \"No\".\n",
        "\n",
        "progstat <- factor(stagec$pgstat, levels=0:1,labels=c(\"No\", \"Prog\"))"
      ],
      "metadata": {
        "id": "pQMs5isjF2qu"
      },
      "execution_count": null,
      "outputs": []
    },
    {
      "cell_type": "code",
      "source": [
        "progstat"
      ],
      "metadata": {
        "id": "NFD1JImDF7WO",
        "colab": {
          "base_uri": "https://localhost:8080/",
          "height": 121
        },
        "outputId": "9c67b65f-55be-40b0-fbd0-7d5383c05c0d"
      },
      "execution_count": null,
      "outputs": [
        {
          "output_type": "display_data",
          "data": {
            "text/html": [
              "<style>\n",
              ".list-inline {list-style: none; margin:0; padding: 0}\n",
              ".list-inline>li {display: inline-block}\n",
              ".list-inline>li:not(:last-child)::after {content: \"\\00b7\"; padding: 0 .5ex}\n",
              "</style>\n",
              "<ol class=list-inline><li>No</li><li>No</li><li>Prog</li><li>Prog</li><li>Prog</li><li>No</li><li>No</li><li>No</li><li>Prog</li><li>No</li><li>No</li><li>Prog</li><li>Prog</li><li>No</li><li>Prog</li><li>Prog</li><li>No</li><li>No</li><li>No</li><li>No</li><li>No</li><li>Prog</li><li>No</li><li>Prog</li><li>Prog</li><li>Prog</li><li>Prog</li><li>No</li><li>Prog</li><li>No</li><li>Prog</li><li>No</li><li>No</li><li>No</li><li>No</li><li>No</li><li>No</li><li>Prog</li><li>Prog</li><li>Prog</li><li>No</li><li>Prog</li><li>No</li><li>No</li><li>No</li><li>No</li><li>No</li><li>No</li><li>No</li><li>No</li><li>No</li><li>No</li><li>No</li><li>No</li><li>Prog</li><li>Prog</li><li>No</li><li>No</li><li>No</li><li>Prog</li><li>Prog</li><li>No</li><li>Prog</li><li>No</li><li>No</li><li>Prog</li><li>No</li><li>No</li><li>No</li><li>No</li><li>No</li><li>Prog</li><li>No</li><li>Prog</li><li>No</li><li>Prog</li><li>Prog</li><li>No</li><li>Prog</li><li>No</li><li>Prog</li><li>Prog</li><li>No</li><li>Prog</li><li>Prog</li><li>No</li><li>No</li><li>Prog</li><li>No</li><li>Prog</li><li>No</li><li>No</li><li>No</li><li>Prog</li><li>Prog</li><li>Prog</li><li>No</li><li>No</li><li>No</li><li>No</li><li>No</li><li>Prog</li><li>Prog</li><li>No</li><li>Prog</li><li>No</li><li>Prog</li><li>No</li><li>Prog</li><li>Prog</li><li>Prog</li><li>No</li><li>No</li><li>No</li><li>Prog</li><li>No</li><li>No</li><li>No</li><li>No</li><li>No</li><li>No</li><li>No</li><li>Prog</li><li>Prog</li><li>No</li><li>Prog</li><li>No</li><li>No</li><li>Prog</li><li>No</li><li>Prog</li><li>No</li><li>No</li><li>No</li><li>No</li><li>No</li><li>No</li><li>No</li><li>No</li><li>No</li><li>No</li><li>No</li><li>Prog</li><li>No</li><li>No</li><li>Prog</li></ol>\n",
              "\n",
              "<details>\n",
              "\t<summary style=display:list-item;cursor:pointer>\n",
              "\t\t<strong>Levels</strong>:\n",
              "\t</summary>\n",
              "\t<style>\n",
              "\t.list-inline {list-style: none; margin:0; padding: 0}\n",
              "\t.list-inline>li {display: inline-block}\n",
              "\t.list-inline>li:not(:last-child)::after {content: \"\\00b7\"; padding: 0 .5ex}\n",
              "\t</style>\n",
              "\t<ol class=list-inline><li>'No'</li><li>'Prog'</li></ol>\n",
              "</details>"
            ],
            "text/markdown": "1. No\n2. No\n3. Prog\n4. Prog\n5. Prog\n6. No\n7. No\n8. No\n9. Prog\n10. No\n11. No\n12. Prog\n13. Prog\n14. No\n15. Prog\n16. Prog\n17. No\n18. No\n19. No\n20. No\n21. No\n22. Prog\n23. No\n24. Prog\n25. Prog\n26. Prog\n27. Prog\n28. No\n29. Prog\n30. No\n31. Prog\n32. No\n33. No\n34. No\n35. No\n36. No\n37. No\n38. Prog\n39. Prog\n40. Prog\n41. No\n42. Prog\n43. No\n44. No\n45. No\n46. No\n47. No\n48. No\n49. No\n50. No\n51. No\n52. No\n53. No\n54. No\n55. Prog\n56. Prog\n57. No\n58. No\n59. No\n60. Prog\n61. Prog\n62. No\n63. Prog\n64. No\n65. No\n66. Prog\n67. No\n68. No\n69. No\n70. No\n71. No\n72. Prog\n73. No\n74. Prog\n75. No\n76. Prog\n77. Prog\n78. No\n79. Prog\n80. No\n81. Prog\n82. Prog\n83. No\n84. Prog\n85. Prog\n86. No\n87. No\n88. Prog\n89. No\n90. Prog\n91. No\n92. No\n93. No\n94. Prog\n95. Prog\n96. Prog\n97. No\n98. No\n99. No\n100. No\n101. No\n102. Prog\n103. Prog\n104. No\n105. Prog\n106. No\n107. Prog\n108. No\n109. Prog\n110. Prog\n111. Prog\n112. No\n113. No\n114. No\n115. Prog\n116. No\n117. No\n118. No\n119. No\n120. No\n121. No\n122. No\n123. Prog\n124. Prog\n125. No\n126. Prog\n127. No\n128. No\n129. Prog\n130. No\n131. Prog\n132. No\n133. No\n134. No\n135. No\n136. No\n137. No\n138. No\n139. No\n140. No\n141. No\n142. No\n143. Prog\n144. No\n145. No\n146. Prog\n\n\n\n**Levels**: 1. 'No'\n2. 'Prog'\n\n\n",
            "text/latex": "\\begin{enumerate*}\n\\item No\n\\item No\n\\item Prog\n\\item Prog\n\\item Prog\n\\item No\n\\item No\n\\item No\n\\item Prog\n\\item No\n\\item No\n\\item Prog\n\\item Prog\n\\item No\n\\item Prog\n\\item Prog\n\\item No\n\\item No\n\\item No\n\\item No\n\\item No\n\\item Prog\n\\item No\n\\item Prog\n\\item Prog\n\\item Prog\n\\item Prog\n\\item No\n\\item Prog\n\\item No\n\\item Prog\n\\item No\n\\item No\n\\item No\n\\item No\n\\item No\n\\item No\n\\item Prog\n\\item Prog\n\\item Prog\n\\item No\n\\item Prog\n\\item No\n\\item No\n\\item No\n\\item No\n\\item No\n\\item No\n\\item No\n\\item No\n\\item No\n\\item No\n\\item No\n\\item No\n\\item Prog\n\\item Prog\n\\item No\n\\item No\n\\item No\n\\item Prog\n\\item Prog\n\\item No\n\\item Prog\n\\item No\n\\item No\n\\item Prog\n\\item No\n\\item No\n\\item No\n\\item No\n\\item No\n\\item Prog\n\\item No\n\\item Prog\n\\item No\n\\item Prog\n\\item Prog\n\\item No\n\\item Prog\n\\item No\n\\item Prog\n\\item Prog\n\\item No\n\\item Prog\n\\item Prog\n\\item No\n\\item No\n\\item Prog\n\\item No\n\\item Prog\n\\item No\n\\item No\n\\item No\n\\item Prog\n\\item Prog\n\\item Prog\n\\item No\n\\item No\n\\item No\n\\item No\n\\item No\n\\item Prog\n\\item Prog\n\\item No\n\\item Prog\n\\item No\n\\item Prog\n\\item No\n\\item Prog\n\\item Prog\n\\item Prog\n\\item No\n\\item No\n\\item No\n\\item Prog\n\\item No\n\\item No\n\\item No\n\\item No\n\\item No\n\\item No\n\\item No\n\\item Prog\n\\item Prog\n\\item No\n\\item Prog\n\\item No\n\\item No\n\\item Prog\n\\item No\n\\item Prog\n\\item No\n\\item No\n\\item No\n\\item No\n\\item No\n\\item No\n\\item No\n\\item No\n\\item No\n\\item No\n\\item No\n\\item Prog\n\\item No\n\\item No\n\\item Prog\n\\end{enumerate*}\n\n\\emph{Levels}: \\begin{enumerate*}\n\\item 'No'\n\\item 'Prog'\n\\end{enumerate*}\n",
            "text/plain": [
              "  [1] No   No   Prog Prog Prog No   No   No   Prog No   No   Prog Prog No   Prog\n",
              " [16] Prog No   No   No   No   No   Prog No   Prog Prog Prog Prog No   Prog No  \n",
              " [31] Prog No   No   No   No   No   No   Prog Prog Prog No   Prog No   No   No  \n",
              " [46] No   No   No   No   No   No   No   No   No   Prog Prog No   No   No   Prog\n",
              " [61] Prog No   Prog No   No   Prog No   No   No   No   No   Prog No   Prog No  \n",
              " [76] Prog Prog No   Prog No   Prog Prog No   Prog Prog No   No   Prog No   Prog\n",
              " [91] No   No   No   Prog Prog Prog No   No   No   No   No   Prog Prog No   Prog\n",
              "[106] No   Prog No   Prog Prog Prog No   No   No   Prog No   No   No   No   No  \n",
              "[121] No   No   Prog Prog No   Prog No   No   Prog No   Prog No   No   No   No  \n",
              "[136] No   No   No   No   No   No   No   Prog No   No   Prog\n",
              "Levels: No Prog"
            ]
          },
          "metadata": {}
        }
      ]
    },
    {
      "cell_type": "code",
      "source": [
        "#Creación del árbol\n",
        "#genera el árbol de decisiones utilizando todas las variables\n",
        "\n",
        "cfit <- rpart(progstat ~ age + eet + g2 + grade +\n",
        "gleason + ploidy,data=stagec, method=\"class\")"
      ],
      "metadata": {
        "id": "G0PqVj9dGBIs"
      },
      "execution_count": null,
      "outputs": []
    },
    {
      "cell_type": "markdown",
      "source": [
        "Visualización del árbol\n",
        "estas cuatro líneas juntas crean la visualización del árbol.\n",
        "\n",
        "En el árbol, en cada nodo se ve la pregunta donde se genera el corte:\n",
        "- El lado izquierdo es respuesta Si (a la pregunta).\n",
        "- El lado derecho es respuesta No.\n",
        "\n",
        "Por Ej: una persona con grade =1,4 se iría por la rama izquierda y si progstat=No."
      ],
      "metadata": {
        "id": "ffmoApDNGPSN"
      }
    },
    {
      "cell_type": "code",
      "source": [
        "#Visualización del árbol\n",
        "cfit\n",
        "plot(cfit) \n",
        "text(cfit)\n",
        "printcp(cfit)"
      ],
      "metadata": {
        "id": "DmQtcOl2GLgN",
        "outputId": "ee3da53d-e836-466b-b61f-76cd786a8926",
        "colab": {
          "base_uri": "https://localhost:8080/",
          "height": 1000
        }
      },
      "execution_count": null,
      "outputs": [
        {
          "output_type": "display_data",
          "data": {
            "text/plain": [
              "n= 146 \n",
              "\n",
              "node), split, n, loss, yval, (yprob)\n",
              "      * denotes terminal node\n",
              "\n",
              " 1) root 146 54 No (0.6301370 0.3698630)  \n",
              "   2) grade< 2.5 61  9 No (0.8524590 0.1475410) *\n",
              "   3) grade>=2.5 85 40 Prog (0.4705882 0.5294118)  \n",
              "     6) g2< 13.2 40 17 No (0.5750000 0.4250000)  \n",
              "      12) ploidy=diploid,tetraploid 31 11 No (0.6451613 0.3548387)  \n",
              "        24) g2>=11.845 7  1 No (0.8571429 0.1428571) *\n",
              "        25) g2< 11.845 24 10 No (0.5833333 0.4166667)  \n",
              "          50) g2< 11.005 17  5 No (0.7058824 0.2941176) *\n",
              "          51) g2>=11.005 7  2 Prog (0.2857143 0.7142857) *\n",
              "      13) ploidy=aneuploid 9  3 Prog (0.3333333 0.6666667) *\n",
              "     7) g2>=13.2 45 17 Prog (0.3777778 0.6222222)  \n",
              "      14) g2>=17.91 22  8 No (0.6363636 0.3636364)  \n",
              "        28) age>=62.5 15  4 No (0.7333333 0.2666667) *\n",
              "        29) age< 62.5 7  3 Prog (0.4285714 0.5714286) *\n",
              "      15) g2< 17.91 23  3 Prog (0.1304348 0.8695652) *"
            ]
          },
          "metadata": {}
        },
        {
          "output_type": "stream",
          "name": "stdout",
          "text": [
            "\n",
            "Classification tree:\n",
            "rpart(formula = progstat ~ age + eet + g2 + grade + gleason + \n",
            "    ploidy, data = stagec, method = \"class\")\n",
            "\n",
            "Variables actually used in tree construction:\n",
            "[1] age    g2     grade  ploidy\n",
            "\n",
            "Root node error: 54/146 = 0.36986\n",
            "\n",
            "n= 146 \n",
            "\n",
            "        CP nsplit rel error xerror    xstd\n",
            "1 0.104938      0   1.00000 1.0000 0.10802\n",
            "2 0.055556      3   0.68519 1.0741 0.10949\n",
            "3 0.027778      4   0.62963 1.0000 0.10802\n",
            "4 0.018519      6   0.57407 1.0185 0.10843\n",
            "5 0.010000      7   0.55556 1.0185 0.10843\n"
          ]
        },
        {
          "output_type": "display_data",
          "data": {
            "text/plain": [
              "plot without title"
            ],
            "image/png": "[encoded data removed]"
          },
          "metadata": {
            "image/png": {
              "width": 420,
              "height": 420
            }
          }
        }
      ]
    },
    {
      "cell_type": "markdown",
      "source": [
        "# **2. Caso: Vinos**"
      ],
      "metadata": {
        "id": "1CeDQ8MwIm8Q"
      }
    },
    {
      "cell_type": "markdown",
      "source": [
        "Fuente ejemplo: https://rpubs.com/jboscomendoza/arboles_decision_clasificacion\n",
        "\n",
        "\n",
        "Notas: se han modificado comandos y repositorio, pero escencialmente es el mismo ejemplo."
      ],
      "metadata": {
        "id": "nChljYgwNA1h"
      }
    },
    {
      "cell_type": "code",
      "source": [
        "library(rpart) \t#Instalar previamente."
      ],
      "metadata": {
        "id": "l0OHZ6JyI_yS"
      },
      "execution_count": 2,
      "outputs": []
    },
    {
      "cell_type": "markdown",
      "source": [
        "**Descarga Archivo desde repositorio GITHUB**"
      ],
      "metadata": {
        "id": "r2qMHkBJNcWX"
      }
    },
    {
      "cell_type": "code",
      "source": [
        "download.file('https://raw.githubusercontent.com/Gabriel2295/datosfine/main/DATAUTO.csv', destfile = \"DATAUTO.csv\", method = \"wget\")"
      ],
      "metadata": {
        "id": "8JMiIz9uKqCY"
      },
      "execution_count": 3,
      "outputs": []
    },
    {
      "cell_type": "markdown",
      "source": [
        "**Cargar datos desde un archivo**\n",
        "\n",
        "sep=\",\" tenga cuidado en el separador, los decimales en este ejemplo se separan por . y no ,"
      ],
      "metadata": {
        "id": "RcOTOGrnNfNh"
      }
    },
    {
      "cell_type": "code",
      "source": [
        "\n",
        "datos <- read.table(\"DATAUTO.csv\",header=TRUE, sep=\";\")\n",
        "attach(datos)"
      ],
      "metadata": {
        "id": "KK3qCHovLFBq"
      },
      "execution_count": 4,
      "outputs": []
    },
    {
      "cell_type": "code",
      "source": [
        "\n",
        "#names(datos)\t\n",
        "#head(datos)\n",
        "#View(datos)"
      ],
      "metadata": {
        "id": "Mqd2AYMKL7ki"
      },
      "execution_count": 5,
      "outputs": []
    },
    {
      "cell_type": "markdown",
      "source": [
        "**Creación del árbol**"
      ],
      "metadata": {
        "id": "BsbT8XLhNynV"
      }
    },
    {
      "cell_type": "code",
      "source": [
        "#target\n",
        "datos_analisis <- factor(datos$V2)\n",
        "\n",
        "#Genera el arbol de desiciones utilizando todas las variables\n",
        "cfit <- rpart(datos_analisis ~ V1+V3+V4+V5+V6+V7+V8+V9+V10+V11+V12+V13, data=datos, method=\"class\")"
      ],
      "metadata": {
        "id": "1-xTgEPBMEH-"
      },
      "execution_count": 8,
      "outputs": []
    },
    {
      "cell_type": "markdown",
      "source": [
        "**Visualización del Árbol**"
      ],
      "metadata": {
        "id": "DQmf_TsXN-cY"
      }
    },
    {
      "cell_type": "code",
      "source": [
        "# Estas cuatro lineas juntas crean la visualización del Árbol.\n",
        "# En el arbol, en cada nodo se ve la pregunta donde se genera el corte:\n",
        "# - El lado izquierdo es respues Si (a la pregunta).\n",
        "# - El lado derecho es respuesta No.\n",
        "print(cfit)\n",
        "plot(cfit) \n",
        "text(cfit)\n",
        "printcp(cfit)"
      ],
      "metadata": {
        "id": "dGlao-YyMHQN",
        "outputId": "9ee2a353-344e-4bdf-8b4e-de628ddd919b",
        "colab": {
          "base_uri": "https://localhost:8080/",
          "height": 856
        }
      },
      "execution_count": 9,
      "outputs": [
        {
          "output_type": "stream",
          "name": "stdout",
          "text": [
            "n= 25 \n",
            "\n",
            "node), split, n, loss, yval, (yprob)\n",
            "      * denotes terminal node\n",
            "\n",
            "1) root 25 22 1,4 (0.04 0.04 0.08 0.04 0.08 0.12 0.08 0.08 0.04 0.04 0.04 0.04 0.04 0.04 0.04 0.04 0.04 0.04 0.04)  \n",
            "  2) V1=2,8,3,3,4,7,5,1,5,3,6 7  4 1,4 (0 0 0.29 0 0.29 0.43 0 0 0 0 0 0 0 0 0 0 0 0 0) *\n",
            "  3) V1=1,3,1,8,1,9,2,4,2,7,3,3,2,3,4,3,7,3,9,4,4,1,4,6,4,9,5,5 18 16 1,5 (0.056 0.056 0 0.056 0 0 0.11 0.11 0.056 0.056 0.056 0.056 0.056 0.056 0.056 0.056 0.056 0.056 0.056) *\n",
            "\n",
            "Classification tree:\n",
            "rpart(formula = datos_analisis ~ V1 + V3 + V4 + V5 + V6 + V7 + \n",
            "    V8 + V9 + V10 + V11 + V12 + V13, data = datos, method = \"class\")\n",
            "\n",
            "Variables actually used in tree construction:\n",
            "[1] V1\n",
            "\n",
            "Root node error: 22/25 = 0.88\n",
            "\n",
            "n= 25 \n",
            "\n",
            "        CP nsplit rel error xerror xstd\n",
            "1 0.090909      0   1.00000 1.1364    0\n",
            "2 0.010000      1   0.90909 1.1364    0\n"
          ]
        },
        {
          "output_type": "display_data",
          "data": {
            "text/plain": [
              "plot without title"
            ],
            "image/png": "[encoded data removed]"
          },
          "metadata": {
            "image/png": {
              "width": 420,
              "height": 420
            }
          }
        }
      ]
    },
    {
      "cell_type": "markdown",
      "source": [
        "# **Tarea**"
      ],
      "metadata": {
        "id": "olxBYbbpRtCK"
      }
    },
    {
      "cell_type": "markdown",
      "source": [
        "Emplear el código anterior (vinos), para crear un caso que emplee un árbol de decisión, debe almacenar sus datos en GITHUB, por lo que debera crear su propia cuenta.\n",
        "\n",
        "Deberá construir su probia base de información, definir variables y variable target, luego crear arbol de decisión, graficar e implementar una herramienta de decisión en excel con esta información.\n",
        "\n"
      ],
      "metadata": {
        "id": "xSuIXbRkRvkr"
      }
    }
  ]
}